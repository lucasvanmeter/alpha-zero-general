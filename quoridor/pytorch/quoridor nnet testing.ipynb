{
 "cells": [
  {
   "cell_type": "code",
   "execution_count": 3,
   "id": "1250473f",
   "metadata": {},
   "outputs": [],
   "source": [
    "import math\n",
    "import torch\n",
    "import torch.nn as nn\n",
    "import torch.nn.functional as F\n",
    "from torch.nn import TransformerEncoder, TransformerEncoderLayer\n",
    "\n",
    "class QuoridorNNet(nn.Module):\n",
    "    \"\"\"\n",
    "    Input: slen - integer representing the length of the sequence run through transformer\n",
    "           ntoken - integer representing the amount of total tokens\n",
    "           d_model - MUST BE EVEN, represents the dimension of the model\n",
    "           ninp - integer representing number of input layers\n",
    "           nhead - integer representing the number of heads in the multiheadattention models\n",
    "           nhid - integer representing the dimension of the feedforward network model in nn.TransformerEncoder\n",
    "           nlayers - integer representing the number of nn.TransformerEncoderLayer in nn.TransformerEncoder\n",
    "           dropout - integer representing the dropout percentage you want to use (Default=0.5) [OPTIONAL]\n",
    "    Description: Initailize transormer model class creating the appropiate layers\n",
    "    Output: None\n",
    "    \"\"\"\n",
    "    def __init__(self, game, nwalltoken: int = 3, npawntoken: int = 3, d_model: int = 200,\n",
    "                 nhead: int = 2, d_hid: int = 2048, nlayers: int = 2, dropout: float = 0.5, ):\n",
    "        # game params\n",
    "        self.action_size = game.getActionSize()\n",
    "        self.input_size = game.getBoardSize()\n",
    "        \n",
    "        super().__init__()\n",
    "        self.model_type = 'Transformer'\n",
    "        self.embeddingSquares = nn.Embedding(nwalltoken, int(d_model / 2))\n",
    "        self.embeddingWalls = nn.Embedding(npawntoken, int(d_model / 2))\n",
    "        self.embeddingNWalls = nn.Embedding(11, d_model)\n",
    "        self.pos_encoder = PositionalEncoding(d_model, dropout)\n",
    "        encoder_layers = TransformerEncoderLayer(d_model, nhead, d_hid, dropout)\n",
    "        self.transformer_encoder = TransformerEncoder(encoder_layers, nlayers, batch_first=True)\n",
    "        self.d_model = d_model\n",
    "        self.softmax = nn.Softmax(dim=1) #Softmax activation layer\n",
    "        self.gelu = nn.GELU() #GELU activation layer\n",
    "        self.flatten = nn.Flatten(start_dim=1) #Flatten layer\n",
    "        self.decoder = nn.Linear(d_model,1) #Decode layer\n",
    "        self.v_output = nn.Linear(self.input_size, 1) #Decode layer\n",
    "        self.p_output = nn.Linear(self.input_size, self.action_size) #Decode layer\n",
    "\n",
    "        self.init_weights()\n",
    "\n",
    "    def init_weights(self) -> None:\n",
    "        initrange = 0.1\n",
    "        self.embeddingSquares.weight.data.uniform_(-initrange, initrange)\n",
    "        self.embeddingWalls.weight.data.uniform_(-initrange, initrange)\n",
    "        self.embeddingNWalls.weight.data.uniform_(-initrange, initrange)\n",
    "        self.decoder.bias.data.zero_()\n",
    "        self.decoder.weight.data.uniform_(-initrange, initrange)\n",
    "\n",
    "    def forward(self, src):\n",
    "        \"\"\"\n",
    "        Arguments:\n",
    "            src: Tensor, shape [2+81+81, batch_size]\n",
    "\n",
    "        Returns:\n",
    "            output Tensor of shape ````\n",
    "        \"\"\"\n",
    "        srcRemWalls = src[:,:2].int()\n",
    "        srcRemWalls = self.embeddingNWalls(srcNWalls)           # batch_size x 2 x d_model\n",
    "        srcSquares = src[:,2: 2 + 81].int()  \n",
    "        srcSquares = self.embeddingSquares(srcSquares)          # batch_size x 81 x d_model/2\n",
    "        srcWalls = src[:, 2 + 81:].int()  \n",
    "        srcWalls = self.embeddingWalls(srcWalls)                # batch_size x 81 x d_model/2\n",
    "        src = torch.cat((srcSquares, srcWalls), dim=2)          # batch_size x 81 x d_model\n",
    "        src = torch.cat((srcRemwalls, src), dim=1)              # batch_size x 83 x d_model\n",
    "        src = src * math.sqrt(self.d_model)                     # batch_size x 83 x d_model\n",
    "        src = self.pos_encoder(src)                             # batch_size x 83 x d_model\n",
    "        output = self.transformer_encoder(src)                  # batch_size x 83 x d_model\n",
    "        output = self.gelu(output)                               \n",
    "        output = self.decoder(output)                           # batch_size x 83 x 1\n",
    "        output = self.gelu(output)\n",
    "        output = self.flatten(output)                           # batch_size x 83\n",
    "        v = self.v_output(output)                               # batch_size x 1\n",
    "        v = self.softmax(v) #Get softmax probability\n",
    "        p = self.p_output(output)                               # batch_size x action_size\n",
    "        p = self.softmax(p) #Get softmax probability\n",
    "        \n",
    "        return v,p\n",
    "    \n",
    "class PositionalEncoding(nn.Module):\n",
    "    \"\"\"\n",
    "    Input: d_model - integer containing the size of the data model input\n",
    "           dropout - integer representing the dropout percentage you want to use (Default=0.1) [OPTIONAL]\n",
    "           max_len - integer representing the max amount of tokens in a input (Default=5000) [OPTIONAL]\n",
    "    Description: Initailize positional encoding layer\n",
    "    Output: None\n",
    "    \"\"\"\n",
    "    def __init__(self, d_model, dropout=0.1, max_len=5000):\n",
    "        super(PositionalEncoding, self).__init__()\n",
    "        self.dropout = nn.Dropout(p=dropout)\n",
    "\n",
    "        pe = torch.zeros(max_len, d_model)\n",
    "        position = torch.arange(0, max_len, dtype=torch.float).unsqueeze(1)\n",
    "        div_term = torch.exp(torch.arange(0, d_model, 2).float() * (-math.log(10000.0) / d_model))\n",
    "        pe[:, 0::2] = torch.sin(position * div_term)\n",
    "        pe[:, 1::2] = torch.cos(position * div_term)\n",
    "        pe = pe.unsqueeze(0)\n",
    "        self.register_buffer('pe', pe)\n",
    "\n",
    "    \"\"\"\n",
    "    Input: x - pytorch tensor containing the input data for the model (seq_len,batch,d_model)\n",
    "    Description: forward pass of the positional encoding layer\n",
    "    Output: pytorch tensor containing positional encoded data (floats)\n",
    "    \"\"\"\n",
    "    def forward(self, x):\n",
    "        x = x + self.pe[:, :vec.size(1)]\n",
    "        return self.dropout(x)\n"
   ]
  },
  {
   "cell_type": "code",
   "execution_count": 4,
   "id": "92e70d24",
   "metadata": {},
   "outputs": [
    {
     "name": "stdout",
     "output_type": "stream",
     "text": [
      "torch.Size([2, 5, 10])\n"
     ]
    },
    {
     "data": {
      "text/plain": [
       "torch.Size([2, 5, 10])"
      ]
     },
     "execution_count": 4,
     "metadata": {},
     "output_type": "execute_result"
    }
   ],
   "source": [
    "import torch\n",
    "import torch.nn as nn\n",
    "import math\n",
    "\n",
    "x = torch.randint(2,(8,)).unsqueeze(0)\n",
    "y = torch.randint(2,(8,)).unsqueeze(0)\n",
    "\n",
    "embedding = nn.Embedding(7, 5)\n",
    "embedding2 = nn.Embedding(7, 10)\n",
    "\n",
    "xvec = torch.cat((embedding2(x[:,:2]),torch.cat((embedding(x[:,2:5]),embedding(x[:,5:])),dim=2)),dim=1)* math.sqrt(10)\n",
    "yvec = torch.cat((embedding2(y[:,:2]),torch.cat((embedding(y[:,2:5]),embedding(y[:,5:])),dim=2)),dim=1)* math.sqrt(10)\n",
    "\n",
    "vec = torch.cat((xvec,yvec),dim=0)\n",
    "print(vec.shape)\n",
    "\n",
    "# d_model = 10\n",
    "# dropout = 0.1\n",
    "# pe = torch.zeros(20, 10)\n",
    "# position = torch.arange(0, 20, dtype=torch.float).unsqueeze(1)\n",
    "# print(position.shape)\n",
    "# div_term = torch.exp(torch.arange(0, d_model, 2).float() * (-math.log(10000.0) / d_model))\n",
    "# print(div_term.shape)\n",
    "# pe[:, 0::2] = torch.sin(position * div_term)\n",
    "# pe[:, 1::2] = torch.cos(position * div_term)\n",
    "# pe = pe.unsqueeze(0)\n",
    "# vec = vec + pe[:, :vec.size(1)]\n",
    "# vec.shape\n",
    "\n",
    "pos_encoder = PositionalEncoding(10, 0.1)\n",
    "pos_encoder(vec).shape"
   ]
  },
  {
   "cell_type": "code",
   "execution_count": 6,
   "id": "f80613a1",
   "metadata": {},
   "outputs": [
    {
     "data": {
      "text/plain": [
       "tensor([[0, 1, 1, 1, 0, 0, 0, 1]])"
      ]
     },
     "execution_count": 6,
     "metadata": {},
     "output_type": "execute_result"
    }
   ],
   "source": [
    "x = torch.randint(2,(8,)).unsqueeze(0)\n",
    "x"
   ]
  },
  {
   "cell_type": "code",
   "execution_count": null,
   "id": "4f4fa3e1",
   "metadata": {},
   "outputs": [],
   "source": []
  }
 ],
 "metadata": {
  "kernelspec": {
   "display_name": "Python 3 (ipykernel)",
   "language": "python",
   "name": "python3"
  },
  "language_info": {
   "codemirror_mode": {
    "name": "ipython",
    "version": 3
   },
   "file_extension": ".py",
   "mimetype": "text/x-python",
   "name": "python",
   "nbconvert_exporter": "python",
   "pygments_lexer": "ipython3",
   "version": "3.10.9"
  }
 },
 "nbformat": 4,
 "nbformat_minor": 5
}
